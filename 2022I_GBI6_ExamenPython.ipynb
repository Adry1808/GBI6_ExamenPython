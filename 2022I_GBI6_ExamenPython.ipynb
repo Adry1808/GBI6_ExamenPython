{
 "cells": [
  {
   "cell_type": "markdown",
   "metadata": {
    "id": "QO1uSYYhRsh8"
   },
   "source": [
    "<img src=\"https://ecogenomics.github.io/CheckM/img/checkm.png\" width=300 height=240 />\n",
    "\n",
    "# EXAMEN PARCIAL PYTHON\n",
    "    \n",
    "\n",
    "## GBI6-2021II: BIOINFORMÁTICA\n",
    "\n",
    "**Pujota, Nicole** <--- CAMBIE POR LOS QUE CORRESPONDA A SUS DATOS\n",
    "\n",
    "**03-08-2022**"
   ]
  },
  {
   "cell_type": "markdown",
   "metadata": {
    "id": "uU2E1-vSRsh_"
   },
   "source": [
    "<font color='red'>Color de texto</font>\n"
   ]
  },
  {
   "cell_type": "markdown",
   "metadata": {
    "id": "PXR1k3tZRsh_"
   },
   "source": [
    "### REQUERIMIENTOS PARA EL EXAMEN\n",
    "\n",
    "Utilice de preferencia ```Jupyter``` de Anaconda, dado que tienen que hacer un control de cambios en cada pregunta. \n",
    "\n",
    "Para este examen se requiere dos documentos: \n",
    "\n",
    "1. Archivo ```miningscience.py``` donde tendrá dos funciones:\n",
    "\n",
    "2. Archivo ```2022I_GBI6_ExamenPython``` donde se llamará las funciones y se obtendrá resultados."
   ]
  },
  {
   "cell_type": "markdown",
   "metadata": {
    "id": "IxphYmSpRsiA"
   },
   "source": [
    "## Ejercicio 0 [0.5 puntos]\n",
    "Realice cambios al cuaderno de jupyter: \n",
    "- Agregue el logo de la Universidad\n",
    "<img src=\"logo.png\" width=300 height=240 />\n",
    "- Coloque sus datos personales \n",
    "- Escriba una **tabla** con las características de su computador \n"
   ]
  },
  {
   "cell_type": "markdown",
   "metadata": {
    "id": "VJUdjERbRsiA"
   },
   "source": [
    "## Ejercicio 1 [2 puntos]\n",
    "Cree el archivo ```miningscience.py``` con las siguientes dos funciones:\n",
    "    \n",
    "i. ```download_pubmed```: para descargar la data de PubMed utilizando el **ENTREZ** de Biopython. El parámetro de entrada para la función es el ```keyword```. \n",
    "    \n",
    "ii. ```science_plots```: la función debe \n",
    "\n",
    "- utilizar como argumento de entrada la data descargada por ```download_pubmed```\n",
    "- ordenar los conteos de autores por país en orden ascedente y \n",
    "- seleccionar los cinco más abundantes. Con esta selección debe graficar un ```pie_plot```. Como guía para el conteo por países puede usar el ejemplo de [MapOfScience](https://github.com/CSB-book/CSB/blob/master/regex/solutions/MapOfScience_solution.ipynb). \n",
    "\n",
    "iii *Cree un docstring para cada función.* \n",
    "\n",
    "Luego de crear las funciones, cargue el módulo ```miningscience``` como ```msc``` e **imprima docstring de cada función**.\n"
   ]
  },
  {
   "cell_type": "code",
   "execution_count": 158,
   "metadata": {
    "id": "4S4EFoERRsiB"
   },
   "outputs": [],
   "source": [
    "import Bio\n",
    "from Bio.Seq import Seq\n",
    "from Bio import Entrez\n",
    "import re\n",
    "\n",
    "def download_pubmed (keyword):\n",
    "    \"\"\"\n",
    "    Funcion que entrada pide la frase clave de busqueda y en output guarda un archivo que contiene los resultados de la \n",
    "    busqueda en base a los titulos para delimitar la busqueda\n",
    "    \"\"\" \n",
    "    Entrez.email = \"adriana.pujota@est.ikiam.edu.ec\"\n",
    "    handle = Entrez.esearch(db=\"pubmed\", \n",
    "                        term=keyword+\"[Title]\",\n",
    "                        retmax = 1000,\n",
    "                        usehistory=\"y\")\n",
    "    record = Entrez.read(handle)\n",
    "    id_list = record[\"IdList\"]\n",
    "    webenv = record[\"WebEnv\"]\n",
    "    query_key = record[\"QueryKey\"]\n",
    "    handle = Entrez.efetch(db=\"pubmed\",\n",
    "                       rettype=\"medline\", \n",
    "                       retmode=\"text\",  \n",
    "                       webenv=webenv,\n",
    "                       query_key=query_key)\n",
    "    out_handle = open(\"data/\"+keyword, \"w\")\n",
    "    data = handle.read()\n",
    "    (id_list)\n",
    "    handle.close()\n",
    "    out_handle.write(data)\n",
    "    out_handle.close()\n",
    "    return id_list \n",
    "\n",
    "import re \n",
    "import csv \n",
    "import matplotlib.pyplot as plt\n",
    "from geopy.geocoders import Nominatim\n",
    "from collections import Counter\n",
    "\n",
    "def science_plots(data):\n",
    "    \"\"\"\n",
    "    Funcion que pide como entrada la busqueda de la funcion download_pubmeds y como resultado muestra un grafico de pastel \n",
    "    indicando a los cinco paises que presentaron mayor frecuencia . \n",
    "    \"\"\" \n",
    "    with open(\"data/\"+data, errors=\"ignore\") as l: \n",
    "        texto = l.read()\n",
    "    texto = re.sub(r\"\\n\\s{6}\", \" \", texto)\n",
    "    countries_1 = re.findall (r\"AD\\s{2}-\\s[A-Za-z].*,\\s([A-Za-z]*)\\.\\s\", texto)\n",
    "    unique_countries = list(set(countries_1))\n",
    "    conteo=Counter(countries_1)\n",
    "    resultado={} ##creamos un variable tipo diccionario \n",
    "    ## En este bucle agregamos los valores del diccionario que tendra los paises y los numeros de frecuencia que se repite\n",
    "    for clave in conteo:  \n",
    "        valor=conteo[clave]\n",
    "        if valor > 1:\n",
    "            resultado[clave] = valor\n",
    "    ordenar = (sorted(resultado.values()))## ordenamos de forma ascendente \n",
    "    ordenar.sort(reverse=True) ##ordenamos a los cinco primeros paises \n",
    "    import operator\n",
    "    ## creamos dos listas que contendra a los paises y frecuencias \n",
    "    pais = [] \n",
    "    contador = []\n",
    "    \n",
    "    ## bucle que añade los valores pais y frecuencia a la listas vacias pais y contador \n",
    "    reverse = sorted(resultado.items(), key=operator.itemgetter(1), reverse=True)   \n",
    "    for name in enumerate(reverse):\n",
    "        pais.append(name[1][0])\n",
    "        contador.append(resultado[name[1][0]])\n",
    "    paises_cinco = pais[0:5] ## seleccionamos los cinco primeros paises \n",
    "    frecuencia_cinco = contador [0:5] ## seleccionamos las cinco primero frecuencia respecto a los paises \n",
    "    fig = plt.figure(figsize =(10, 7))\n",
    "    plt.pie(frecuencia_cinco, labels = paises_cinco)\n",
    "    (plt.savefig(\"img/\"+data, dpi=100, bbox_inches='tight'))\n",
    "    plt.show()\n",
    "    \n",
    "\n",
    "\n"
   ]
  },
  {
   "cell_type": "markdown",
   "metadata": {
    "id": "ij0wzVM-RsiC"
   },
   "source": [
    "\n",
    "## Ejercicio 2 [2 puntos]\n",
    "\n",
    "\n",
    "Utilice dos veces la función ```download_pubmed``` para: \n",
    "\n",
    "- Descargar la data, utilizando los keyword de su preferencia. \n",
    "- Guardar el archivo descargado en la carpeta ```data```.\n",
    "\n",
    "Para cada corrida, imprima lo siguiente: \n",
    "\n",
    "```python\n",
    "'El número artículos para KEYWORD es: XX' # Que se cargue con inserción de texto o valor que correspondea KEYWORD y XX\n",
    "```"
   ]
  },
  {
   "cell_type": "code",
   "execution_count": 161,
   "metadata": {
    "id": "1wO2lK5BRsiC"
   },
   "outputs": [
    {
     "name": "stdout",
     "output_type": "stream",
     "text": [
      "El número articulos para Ecuador chagas es:  71\n",
      "El número articulos para Ecuador QSAR es:  11\n"
     ]
    }
   ],
   "source": [
    "# Escriba aquí su código para el ejercicio 2\n",
    "f = download_pubmed (\"Ecuador chagas\")\n",
    "f1 = (download_pubmed (\"Ecuador QSAR\"))\n",
    "print (\"El número articulos para Ecuador chagas es: \", len(f))\n",
    "print (\"El número articulos para Ecuador QSAR es: \", len(f1))\n",
    "\n",
    "#print (download_pubmed (\"Ecuador chagas\"))\n"
   ]
  },
  {
   "cell_type": "markdown",
   "metadata": {
    "id": "itG4ocMTRsiC"
   },
   "source": [
    "## Ejercicio 3 [1.5 puntos]\n",
    "\n",
    "Utilice dos veces la función ```science_plots``` para: \n",
    "\n",
    "- Visualizar un pie_plot para cada data descargada en el ejercicio 2.\n",
    "- Guardar los pie_plot en la carpeta ```img```"
   ]
  },
  {
   "cell_type": "code",
   "execution_count": 162,
   "metadata": {
    "id": "fyko-Lv9RsiD",
    "scrolled": true
   },
   "outputs": [
    {
     "data": {
      "image/png": "[encoded data removed]",
      "text/plain": [
       "<Figure size 720x504 with 1 Axes>"
      ]
     },
     "metadata": {},
     "output_type": "display_data"
    },
    {
     "data": {
      "image/png": "[encoded data removed]",
      "text/plain": [
       "<Figure size 720x504 with 1 Axes>"
      ]
     },
     "metadata": {},
     "output_type": "display_data"
    }
   ],
   "source": [
    "# Escriba aquí su código para el ejercicio 3\n",
    "\n",
    "\n",
    "science_plots(\"Ecuador chagas\")\n",
    "\n",
    "science_plots(\"Ecuador QSAR\")\n",
    "\n",
    "\n",
    "\n",
    "\n",
    "\n",
    "\n",
    "\n",
    "\n",
    "\n",
    "\n",
    "\n",
    "\n",
    "\n"
   ]
  },
  {
   "cell_type": "markdown",
   "metadata": {
    "id": "KNL7A_GpRsiD"
   },
   "source": [
    "## Ejercicio 4 [1 punto]\n",
    "\n",
    "**Interprete** los resultados de las figuras del **ejercicio 3**"
   ]
  },
  {
   "cell_type": "markdown",
   "metadata": {
    "id": "57ax3HkkRsiE"
   },
   "source": [
    "*Escriba la respuesta del ejercicio 5*\n",
    "\n",
    "En la busqueda de \"Ecuador chagas\" se pudo obtener 71 articulos que es numero relativo bajo debido a que el chagas se encuentra en la lista de enfermedades tropicales desantendidas. El grafico nos muestra que la mayoria de los autores son de origen Ecuatoriano. En el segundo y tercero hay dos paises europeos España e Italia respectivamente, siendo un posible indicador que serían los paises que colaboran con la investigación sobre el mal de chagas en Ecuador. Finalmente estan Colombia y Brasil que segun datos son paises tropicales que presentan un importante indice de la enfermedad. \n",
    "\n",
    "En la busqueda de \"Ecuador QSAR\" se pudo obtuvieron 11 articulos, resultados esperados debido a que QSAR es una metodologia de quimioinformática que sirve para predecir la estructura-funcion de posibles candidatos a moleculas terapeuticas. Debido a la busqueda el pais que presento mayor frecuencia fue Ecuador, seguida de España y Francia indicando que son paises que colaboran constantemente en el area de quimioinformática. Finalmente estan los paises de Colombia y Cuba \n",
    "\n",
    ".\n",
    "\n",
    "."
   ]
  },
  {
   "cell_type": "markdown",
   "metadata": {
    "id": "UMDoO8UbRsiE"
   },
   "source": [
    "## Ejercicio 5 [2 puntos]\n",
    "\n",
    "Para algún **gen de las enzimas que intervienen en la ruta metabolica de la gluconeogenesis** ([Lista de genes por tipología](https://www.genome.jp/pathway/map00010+C00068)), realice lo siguiente: \n",
    "\n",
    "1. Una búsqueda en la página del [NCBI nucleotide](https://www.ncbi.nlm.nih.gov/nucleotide/).\n",
    "\n",
    "2. Descargue el ```Accession List``` de su búsqueda y guarde en la carpeta ```data```.\n",
    "\n",
    "3. Cargue el ```Accession List``` en este notebook y haga una descarga de las secuencias de los **quince primeros** IDs de la accesión. \n",
    "\n",
    "4. Arme un árbol filogenético para los resultados del paso 3.\n",
    "\n",
    "5. Guarde su arbol filogénetico en la carpeta ```img```\n",
    "\n",
    "\n",
    "5. Interprete el árbol del paso 4. "
   ]
  },
  {
   "cell_type": "code",
   "execution_count": null,
   "metadata": {
    "id": "JMpUw-AGRsiE"
   },
   "outputs": [],
   "source": [
    "# Escriba aquí su código para el ejercicio 6\n",
    "\n",
    "\n",
    "\n",
    "\n",
    "\n",
    "\n",
    "\n",
    "\n",
    "\n",
    "\n",
    "\n",
    "\n"
   ]
  },
  {
   "cell_type": "markdown",
   "metadata": {
    "id": "DYwaua_eRsiF"
   },
   "source": [
    "**Escriba aquí la interpretación del árbol**"
   ]
  },
  {
   "cell_type": "markdown",
   "metadata": {
    "id": "w72rTzpVRsiF"
   },
   "source": [
    "## Ejercicio 6 [1 punto]\n",
    "\n",
    "\n",
    "1. Cree en GitHub un repositorio de nombre ```GBI6_ExamenPython```. \n",
    "2. Cree un archivo ```Readme.md``` que debe tener lo siguiente:\n",
    "- Datos personales\n",
    "- Características del computador\n",
    "- Versión de Python/Anaconda y de cada uno de los módulos/paquetes y utilizados\n",
    "- Explicación de la data utilizada\n",
    "- Un diagrama de procesos del módulo ```miningscience```\n",
    "3. Asegurarse que su repositorio tiene las carpetas ```data``` e ```img``` con los archivos que ha ido guardando en las preguntas anteriores.  \n",
    "4. Realice al menos 1 control de la versión (commits) por cada ejercicio (del 1 al 5), con un mensaje que inicie como: \n",
    "\n",
    "```sh \n",
    "Carlitos Alimaña ha realizado el ejercicio 1  \n",
    "```\n",
    "```sh \n",
    "Carlitos Alimaña ha realizado el ejercicio 2\n",
    "```\n",
    "```sh \n",
    "...\n",
    "```\n"
   ]
  },
  {
   "cell_type": "code",
   "execution_count": null,
   "metadata": {
    "id": "4bZlE-UCRsiF"
   },
   "outputs": [],
   "source": []
  }
 ],
 "metadata": {
  "colab": {
   "name": "2022I_GBI6G01_ExamenPython.ipynb",
   "provenance": []
  },
  "kernelspec": {
   "display_name": "Python 3 (ipykernel)",
   "language": "python",
   "name": "python3"
  },
  "language_info": {
   "codemirror_mode": {
    "name": "ipython",
    "version": 3
   },
   "file_extension": ".py",
   "mimetype": "text/x-python",
   "name": "python",
   "nbconvert_exporter": "python",
   "pygments_lexer": "ipython3",
   "version": "3.10.6"
  },
  "latex_envs": {
   "LaTeX_envs_menu_present": true,
   "autoclose": false,
   "autocomplete": true,
   "bibliofile": "biblio.bib",
   "cite_by": "apalike",
   "current_citInitial": 1,
   "eqLabelWithNumbers": true,
   "eqNumInitial": 1,
   "hotkeys": {
    "equation": "Ctrl-E",
    "itemize": "Ctrl-I"
   },
   "labels_anchors": false,
   "latex_user_defs": false,
   "report_style_numbering": false,
   "user_envs_cfg": false
  },
  "toc": {
   "base_numbering": 1,
   "nav_menu": {},
   "number_sections": true,
   "sideBar": false,
   "skip_h1_title": false,
   "title_cell": "Table of Contents",
   "title_sidebar": "Contents",
   "toc_cell": false,
   "toc_position": {
    "height": "1152.67px",
    "left": "41px",
    "top": "110px",
    "width": "253.458px"
   },
   "toc_section_display": true,
   "toc_window_display": false
  },
  "varInspector": {
   "cols": {
    "lenName": 16,
    "lenType": 16,
    "lenVar": 40
   },
   "kernels_config": {
    "python": {
     "delete_cmd_postfix": "",
     "delete_cmd_prefix": "del ",
     "library": "var_list.py",
     "varRefreshCmd": "print(var_dic_list())"
    },
    "r": {
     "delete_cmd_postfix": ") ",
     "delete_cmd_prefix": "rm(",
     "library": "var_list.r",
     "varRefreshCmd": "cat(var_dic_list()) "
    }
   },
   "types_to_exclude": [
    "module",
    "function",
    "builtin_function_or_method",
    "instance",
    "_Feature"
   ],
   "window_display": false
  }
 },
 "nbformat": 4,
 "nbformat_minor": 1
}
